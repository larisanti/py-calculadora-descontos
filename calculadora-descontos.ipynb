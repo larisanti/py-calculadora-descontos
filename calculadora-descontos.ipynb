{
  "nbformat": 4,
  "nbformat_minor": 0,
  "metadata": {
    "colab": {
      "provenance": []
    },
    "kernelspec": {
      "name": "python3",
      "display_name": "Python 3"
    },
    "language_info": {
      "name": "python"
    }
  },
  "cells": [
    {
      "cell_type": "markdown",
      "source": [
        "# **Calculadora de Descontos**\n",
        "---\n",
        "Atividade prática desenvolvida para a disciplina de **Lógica de Programação e Algoritmos** do Bacharelado em Engenharia de Software.\n",
        "\n",
        "\n",
        "---\n",
        "### Objetivo\n",
        "Implementar uma calculadora de descontos progressivos em Python, que aplica:\n",
        "- 0% (valor < R$2500)\n",
        "- 4% (R$2500 ≤ valor < R$6000)\n",
        "- 7% (R$6000 ≤ valor < R$10000)\n",
        "- 11% (valor ≥ R$10000)\n",
        "\n",
        "\n",
        "---\n",
        "### Competências Desenvolvidas\n",
        "- Estruturas condicionais (`if/elif/else`)\n",
        "- Operações matemáticas\n",
        "- Formatação de saída\n",
        "- Validação de entradas\n",
        "\n",
        "\n",
        "---\n",
        "### Como Executar\n",
        "```bash\n",
        "python3 calculadora-descontos.py"
      ],
      "metadata": {
        "id": "9b_TzHye-OXO"
      }
    },
    {
      "cell_type": "code",
      "execution_count": 16,
      "metadata": {
        "colab": {
          "base_uri": "https://localhost:8080/"
        },
        "id": "lzoTge2QI9lB",
        "outputId": "a7504342-5528-47b6-c1f6-2343ca075da2"
      },
      "outputs": [
        {
          "output_type": "stream",
          "name": "stdout",
          "text": [
            "Bem-vindo à Loja da Larissa de Santi\n",
            "Entre com o valor do produto: 200\n",
            "Entre com a quantidade do produto: 40\n",
            "O valor SEM desconto: R$ 8000.00\n",
            "O valor COM desconto: R$ 7440.00\n"
          ]
        }
      ],
      "source": [
        "print('Bem-vindo à Loja da Larissa de Santi')\n",
        "\n",
        "valor_unitario = float(input('Entre com o valor do produto: ')) # Permite centavos\n",
        "quantidade = int(input('Entre com a quantidade do produto: '))\n",
        "\n",
        "x = valor_unitario * quantidade\n",
        "y = 2500\n",
        "z = 6000\n",
        "w = 10000\n",
        "\n",
        "# Condição 1\n",
        "if (x < y):\n",
        "  print(f'O valor SEM desconto: R$ {x:.2f}') # Duas casas decimais (.2f)\n",
        "  print(f'O valor COM desconto: R$ {x:.2f}')\n",
        "# Condição 2\n",
        "elif (x >= y) and (x < z):\n",
        "  print(f'O valor SEM desconto: R$ {x:.2f}')\n",
        "  print(f'O valor COM desconto: R$ {x * 0.96:.2f}') # Desconto de 4% (1-0.04)\n",
        "# Condição 3\n",
        "elif (x >= z) and (x < w):\n",
        "  print(f'O valor SEM desconto: R$ {x:.2f}')\n",
        "  print(f'O valor COM desconto: R$ {x * 0.93:.2f}') # Desconto de 7% (1-0.07)\n",
        "# Condição 4\n",
        "elif (x >= w):\n",
        "  print(f'O valor SEM desconto: R$ {x:.2f}')\n",
        "  print(f'O valor COM desconto: R$ {x * 0.89:.2f}') # Desconto de 11% (1-0.11)\n",
        "else:\n",
        "  print('Desconto válido para compras a partir de R$ 2500.')\n"
      ]
    }
  ]
}